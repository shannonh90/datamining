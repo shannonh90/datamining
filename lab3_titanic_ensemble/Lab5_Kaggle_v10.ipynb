{
 "cells": [
  {
   "cell_type": "markdown",
   "metadata": {},
   "source": [
    "## Lab 5: Kaggle Competition"
   ]
  },
  {
   "cell_type": "markdown",
   "metadata": {},
   "source": [
    "Team FourFeats: Lucia, Carina, Michelle, Shannon"
   ]
  },
  {
   "cell_type": "code",
   "execution_count": 1,
   "metadata": {
    "collapsed": true
   },
   "outputs": [],
   "source": [
    "import pandas as pd\n",
    "import numpy as np\n",
    "import matplotlib.pyplot as plt\n",
    "%matplotlib inline\n",
    "\n",
    "import re as re"
   ]
  },
  {
   "cell_type": "markdown",
   "metadata": {},
   "source": [
    "<b>Read the Data from a CSV file</b>  This code reads the training data into a panda data frame."
   ]
  },
  {
   "cell_type": "code",
   "execution_count": 2,
   "metadata": {
    "collapsed": false
   },
   "outputs": [],
   "source": [
    "training = pd.read_csv('Lab5_train.csv', dtype={'Age': np.float64}) #training is dataframe with training data\n",
    "test = pd.read_csv('Lab5_test.csv', dtype={'Age': np.float64}) #test is dataframe with test data\n",
    "full_data = [training, test] #full_data is dataframe with all data\n",
    "passengerid = test['PassengerID']\n",
    "passenger_list = test['PassengerID']"
   ]
  },
  {
   "cell_type": "markdown",
   "metadata": {},
   "source": [
    "#### Feature Engineering"
   ]
  },
  {
   "cell_type": "code",
   "execution_count": 3,
   "metadata": {
    "collapsed": false
   },
   "outputs": [
    {
     "name": "stdout",
     "output_type": "stream",
     "text": [
      "  Embarked  Survived\n",
      "0        C  0.561798\n",
      "1        Q  0.366667\n",
      "2        S  0.341577\n"
     ]
    }
   ],
   "source": [
    "#2. Embarked feature has some missing values. Fill those with the most occuring value ('S)\n",
    "for dataset in full_data:\n",
    "    dataset['Embarked'] = dataset['Embarked'].fillna('S')\n",
    "print (training[['Embarked', 'Survived']].groupby(['Embarked'], as_index=False).mean())"
   ]
  },
  {
   "cell_type": "code",
   "execution_count": 4,
   "metadata": {
    "collapsed": false
   },
   "outputs": [
    {
     "name": "stdout",
     "output_type": "stream",
     "text": [
      "   FamilySize  Survived\n",
      "0           1  0.307829\n",
      "1           2  0.555556\n",
      "2           3  0.557692\n",
      "3           4  0.758621\n",
      "4           5  0.333333\n",
      "5           6  0.190476\n",
      "6           7  0.272727\n",
      "7           8  0.000000\n",
      "8          11  0.000000\n"
     ]
    }
   ],
   "source": [
    "#3. Create a family size feature\n",
    "# https://www.kaggle.com/sinakhorami/titanic/titanic-best-working-classifier\n",
    "for dataset in full_data:\n",
    "    dataset['FamilySize'] = dataset['SibSp'] + dataset['ParCh'] + 1\n",
    "print (training[['FamilySize', 'Survived']].groupby(['FamilySize'], as_index=False).mean())"
   ]
  },
  {
   "cell_type": "code",
   "execution_count": 5,
   "metadata": {
    "collapsed": false
   },
   "outputs": [
    {
     "name": "stdout",
     "output_type": "stream",
     "text": [
      "   IsAlone  Survived\n",
      "0        0  0.512748\n",
      "1        1  0.307829\n"
     ]
    }
   ],
   "source": [
    "#3.5 Let's also categorize people to check whether they are alone or not\n",
    "for dataset in full_data:\n",
    "    dataset['IsAlone'] = 0\n",
    "    dataset.loc[dataset['FamilySize'] == 1, 'IsAlone'] = 1\n",
    "print (training[['IsAlone', 'Survived']].groupby(['IsAlone'], as_index=False).mean())"
   ]
  },
  {
   "cell_type": "code",
   "execution_count": 6,
   "metadata": {
    "collapsed": false
   },
   "outputs": [
    {
     "name": "stdout",
     "output_type": "stream",
     "text": [
      "     CategoricalFare  Survived\n",
      "0         [0, 7.896]  0.234043\n",
      "1    (7.896, 14.454]  0.290749\n",
      "2   (14.454, 31.275]  0.412281\n",
      "3  (31.275, 512.329]  0.617778\n"
     ]
    }
   ],
   "source": [
    "#4. Fare has some missing values. Replace with median. Categorize into 4 ranges. \n",
    "#https://www.kaggle.com/sinakhorami/titanic/titanic-best-working-classifier\n",
    "for dataset in full_data:\n",
    "    dataset['Fare'] = dataset['Fare'].fillna(training['Fare'].median())\n",
    "    training['CategoricalFare'] = pd.qcut(training['Fare'], 4)\n",
    "print (training[['CategoricalFare', 'Survived']].groupby(['CategoricalFare'], as_index=False).mean())"
   ]
  },
  {
   "cell_type": "code",
   "execution_count": 7,
   "metadata": {
    "collapsed": false,
    "scrolled": false
   },
   "outputs": [
    {
     "name": "stdout",
     "output_type": "stream",
     "text": [
      "  CategoricalAge  Survived\n",
      "0    (-0.08, 16]  0.500000\n",
      "1       (16, 32]  0.361345\n",
      "2       (32, 48]  0.355102\n",
      "3       (48, 64]  0.506849\n",
      "4       (64, 80]  0.222222\n"
     ]
    },
    {
     "name": "stderr",
     "output_type": "stream",
     "text": [
      "//anaconda/lib/python3.5/site-packages/ipykernel/__main__.py:9: SettingWithCopyWarning: \n",
      "A value is trying to be set on a copy of a slice from a DataFrame\n",
      "\n",
      "See the caveats in the documentation: http://pandas.pydata.org/pandas-docs/stable/indexing.html#indexing-view-versus-copy\n"
     ]
    }
   ],
   "source": [
    "# #5. Age has lots of missing values. \n",
    "# #https://www.kaggle.com/sinakhorami/titanic/titanic-best-working-classifier\n",
    "for dataset in full_data:\n",
    "    age_avg \t   = dataset['Age'].mean()\n",
    "    age_std \t   = dataset['Age'].std()\n",
    "    age_null_count = dataset['Age'].isnull().sum()\n",
    "    \n",
    "    age_null_random_list = np.random.randint(age_avg - age_std, age_avg + age_std, size=age_null_count)\n",
    "    dataset['Age'][np.isnan(dataset['Age'])] = age_null_random_list\n",
    "    dataset['Age'] = dataset['Age'].astype(int)\n",
    "    \n",
    "training['CategoricalAge'] = pd.cut(training['Age'], 5)\n",
    "\n",
    "print (training[['CategoricalAge', 'Survived']].groupby(['CategoricalAge'], as_index=False).mean())"
   ]
  },
  {
   "cell_type": "code",
   "execution_count": 8,
   "metadata": {
    "collapsed": false
   },
   "outputs": [],
   "source": [
    "# # 5.1 Another way to process age\n",
    "# # http://ahmedbesbes.com/how-to-score-08134-in-titanic-kaggle-challenge.html\n",
    "\n",
    "# def fillAges(row):\n",
    "#     if row['Sex']=='female' and row['Pclass'] == 1:\n",
    "#         if row['Title'] == 'Miss':\n",
    "#             return 30\n",
    "#         elif row['Title'] == 'Mrs':\n",
    "#             return 45\n",
    "#         elif row['Title'] == 'Officer':\n",
    "#             return 49\n",
    "#         elif row['Title'] == 'Royalty':\n",
    "#             return 39\n",
    "\n",
    "#     elif row['Sex']=='female' and row['Pclass'] == 2:\n",
    "#         if row['Title'] == 'Miss':\n",
    "#             return 20\n",
    "#         elif row['Title'] == 'Mrs':\n",
    "#             return 30\n",
    "\n",
    "#     elif row['Sex']=='female' and row['Pclass'] == 3:\n",
    "#         if row['Title'] == 'Miss':\n",
    "#             return 18\n",
    "#         elif row['Title'] == 'Mrs':\n",
    "#             return 31\n",
    "\n",
    "#     elif row['Sex']=='male' and row['Pclass'] == 1:\n",
    "#         if row['Title'] == 'Master':\n",
    "#             return 6\n",
    "#         elif row['Title'] == 'Mr':\n",
    "#             return 41.5\n",
    "#         elif row['Title'] == 'Officer':\n",
    "#             return 52\n",
    "#         elif row['Title'] == 'Royalty':\n",
    "#             return 40\n",
    "\n",
    "#     elif row['Sex']=='male' and row['Pclass'] == 2:\n",
    "#         if row['Title'] == 'Master':\n",
    "#             return 2\n",
    "#         elif row['Title'] == 'Mr':\n",
    "#             return 30\n",
    "#         elif row['Title'] == 'Officer':\n",
    "#             return 41.5\n",
    "\n",
    "#     elif row['Sex']=='male' and row['Pclass'] == 3:\n",
    "#         if row['Title'] == 'Master':\n",
    "#             return 6\n",
    "#         elif row['Title'] == 'Mr':\n",
    "#             return 26\n",
    "\n",
    "# for dataset in full_data:\n",
    "#     dataset.Age = dataset.apply(lambda r : fillAges(r) if np.isnan(r['Age']) else r['Age'], axis=1)\n",
    "\n",
    "# training['CategoricalAge'] = pd.cut(training['Age'], 5)\n",
    "\n",
    "# print (training[['CategoricalAge', 'Survived']].groupby(['CategoricalAge'], as_index=False).mean())"
   ]
  },
  {
   "cell_type": "code",
   "execution_count": 9,
   "metadata": {
    "collapsed": false
   },
   "outputs": [
    {
     "name": "stdout",
     "output_type": "stream",
     "text": [
      "Sex       female  male\n",
      "Title                 \n",
      "Col            0     3\n",
      "Countess       1     0\n",
      "Don            0     1\n",
      "Dr             1     4\n",
      "Jonkheer       0     1\n",
      "Lady           1     0\n",
      "Major          0     1\n",
      "Master         0    46\n",
      "Miss         185     0\n",
      "Mme            1     0\n",
      "Mr             0   530\n",
      "Mrs          133     0\n",
      "Ms             2     0\n",
      "Rev            0     5\n"
     ]
    }
   ],
   "source": [
    "#6. Let's get the title of people\n",
    "#https://www.kaggle.com/sinakhorami/titanic/titanic-best-working-classifier\n",
    "\n",
    "def get_title(name):\n",
    "    title_search = re.search(' ([A-Za-z]+)\\.', name)\n",
    "    # If the title exists, extract and return it.\n",
    "    if title_search:\n",
    "        return title_search.group(1)\n",
    "    return \"\"\n",
    "\n",
    "for dataset in full_data:\n",
    "    dataset['Title'] = dataset['Name'].apply(get_title)\n",
    "    \n",
    "print(pd.crosstab(training['Title'], training['Sex']))"
   ]
  },
  {
   "cell_type": "code",
   "execution_count": 10,
   "metadata": {
    "collapsed": false
   },
   "outputs": [
    {
     "name": "stdout",
     "output_type": "stream",
     "text": [
      "    Title  Survived\n",
      "0  Master  0.456522\n",
      "1    Miss  0.700535\n",
      "2      Mr  0.160377\n",
      "3     Mrs  0.813433\n",
      "4    Rare  0.444444\n"
     ]
    }
   ],
   "source": [
    "#6.5 We have titles, let's categorize them and check the impact on survival rate. \n",
    "for dataset in full_data:\n",
    "    dataset['Title'] = dataset['Title'].replace(['Lady', 'Countess','Capt', 'Col',\\\n",
    " \t'Don', 'Dr', 'Major', 'Rev', 'Sir', 'Jonkheer', 'Dona'], 'Rare')\n",
    "\n",
    "    dataset['Title'] = dataset['Title'].replace('Mlle', 'Miss')\n",
    "    dataset['Title'] = dataset['Title'].replace('Ms', 'Miss')\n",
    "    dataset['Title'] = dataset['Title'].replace('Mme', 'Mrs')\n",
    "\n",
    "print (training[['Title', 'Survived']].groupby(['Title'], as_index=False).mean())"
   ]
  },
  {
   "cell_type": "code",
   "execution_count": 11,
   "metadata": {
    "collapsed": false,
    "scrolled": true
   },
   "outputs": [
    {
     "name": "stdout",
     "output_type": "stream",
     "text": [
      "  Cabin  Survived\n",
      "0     A  0.600000\n",
      "1     B  0.784314\n",
      "2     C  0.615385\n",
      "3     D  0.696970\n",
      "4     E  0.764706\n",
      "5     F  0.769231\n",
      "6     G  0.500000\n",
      "7     T  0.000000\n",
      "8     U  0.291845\n"
     ]
    }
   ],
   "source": [
    "#7. Process cabin\n",
    "\n",
    "for dataset in full_data:\n",
    "    dataset.Cabin.fillna('U',inplace=True)\n",
    "    dataset['Cabin'] = dataset['Cabin'].map(lambda c : c[0])\n",
    "\n",
    "print (training[['Cabin', 'Survived']].groupby(['Cabin'], as_index=False).mean())"
   ]
  },
  {
   "cell_type": "markdown",
   "metadata": {},
   "source": [
    "<b>Data Cleaning</b> "
   ]
  },
  {
   "cell_type": "code",
   "execution_count": 12,
   "metadata": {
    "collapsed": false,
    "scrolled": false
   },
   "outputs": [
    {
     "name": "stdout",
     "output_type": "stream",
     "text": [
      "   Survived  Pclass  Sex  Age  Fare  Cabin  Embarked  FamilySize  IsAlone  \\\n",
      "0         0       3    1    2     0      8         1           1        1   \n",
      "1         0       2    1    2     2      8         0           2        0   \n",
      "2         0       3    1    1     0      8         0           1        1   \n",
      "3         0       2    0    3     1      4         0           1        1   \n",
      "4         0       3    0    1     0      8         0           1        1   \n",
      "5         0       3    1    1     0      8         2           1        1   \n",
      "6         0       3    1    1     2      8         0           1        1   \n",
      "7         0       3    1    2     1      8         0           3        0   \n",
      "8         1       2    0    2     2      8         0           4        0   \n",
      "9         0       3    1    1     1      8         0           1        1   \n",
      "\n",
      "   Title  Women_child  \n",
      "0      1            0  \n",
      "1      1            0  \n",
      "2      1            0  \n",
      "3      3            1  \n",
      "4      2            1  \n",
      "5      1            0  \n",
      "6      1            0  \n",
      "7      1            0  \n",
      "8      3            1  \n",
      "9      1            0  \n"
     ]
    }
   ],
   "source": [
    "#https://www.kaggle.com/sinakhorami/titanic/titanic-best-working-classifier\n",
    "for dataset in full_data:\n",
    "    # Mapping Sex\n",
    "    dataset['Sex'] = dataset['Sex'].map( {'female': 0, 'male': 1} ).astype(int)\n",
    "    \n",
    "    # Mapping titles\n",
    "    title_mapping = {\"Mr\": 1, \"Miss\": 2, \"Mrs\": 3, \"Master\": 4, \"Rare\": 5}\n",
    "    dataset['Title'] = dataset['Title'].map(title_mapping)\n",
    "    dataset['Title'] = dataset['Title'].fillna(0)\n",
    "    \n",
    "    # Mapping Embarked\n",
    "    dataset['Embarked'] = dataset['Embarked'].map( {'S': 0, 'C': 1, 'Q': 2} ).astype(int)\n",
    "    \n",
    "    # Mapping Fare\n",
    "    dataset.loc[ dataset['Fare'] <= 7.91, 'Fare'] \t\t\t\t\t\t        = 0\n",
    "    dataset.loc[(dataset['Fare'] > 7.91) & (dataset['Fare'] <= 14.454), 'Fare'] = 1\n",
    "    dataset.loc[(dataset['Fare'] > 14.454) & (dataset['Fare'] <= 31), 'Fare']   = 2\n",
    "    dataset.loc[ dataset['Fare'] > 31, 'Fare'] \t\t\t\t\t\t\t        = 3\n",
    "    dataset['Fare'] = dataset['Fare'].astype(int)\n",
    "    \n",
    "    # Mapping Age\n",
    "    dataset.loc[ dataset['Age'] <= 16, 'Age'] \t\t\t\t\t       = 0\n",
    "    dataset.loc[(dataset['Age'] > 16) & (dataset['Age'] <= 32), 'Age'] = 1\n",
    "    dataset.loc[(dataset['Age'] > 32) & (dataset['Age'] <= 48), 'Age'] = 2\n",
    "    dataset.loc[(dataset['Age'] > 48) & (dataset['Age'] <= 64), 'Age'] = 3\n",
    "    dataset.loc[ dataset['Age'] > 64, 'Age']                           = 4\n",
    "    \n",
    "    # Mapping Cabin\n",
    "    dataset.loc[ dataset['Cabin'] == 'A', 'Cabin']  \t\t\t       = 0\n",
    "    dataset.loc[ dataset['Cabin'] == 'B', 'Cabin']  \t\t\t       = 1\n",
    "    dataset.loc[ dataset['Cabin'] == 'C', 'Cabin']  \t\t\t       = 2\n",
    "    dataset.loc[ dataset['Cabin'] == 'D', 'Cabin']  \t\t\t       = 3\n",
    "    dataset.loc[ dataset['Cabin'] == 'E', 'Cabin']  \t\t\t       = 4\n",
    "    dataset.loc[ dataset['Cabin'] == 'F', 'Cabin']  \t\t\t       = 5\n",
    "    dataset.loc[ dataset['Cabin'] == 'G', 'Cabin']  \t\t\t       = 6\n",
    "    dataset.loc[ dataset['Cabin'] == 'T', 'Cabin']  \t\t\t       = 7\n",
    "    dataset.loc[ dataset['Cabin'] == 'U', 'Cabin']  \t\t\t       = 8\n",
    "    dataset['Cabin'] = dataset['Cabin'].astype(int)\n",
    "    \n",
    "    # Mapping Women and Children\n",
    "    dataset['Women_child'] = 0\n",
    "    dataset.loc[((dataset['Age'] > 0) & (dataset['Sex'] == 0)) | (dataset['Age'] == 0), 'Women_child'] = 1\n",
    "    dataset['Women_child'] = dataset['Women_child'].astype(int)\n",
    "\n",
    "# Feature Selection\n",
    "drop_elements = ['PassengerID', 'Name', 'Ticket', 'SibSp',\\\n",
    "                 'ParCh']\n",
    "training = training.drop(drop_elements, axis = 1)\n",
    "training = training.drop(['CategoricalAge', 'CategoricalFare'], axis = 1)\n",
    "\n",
    "test  = test.drop(drop_elements, axis = 1)\n",
    "\n",
    "print (training.head(10))\n",
    "\n",
    "train = training.values\n",
    "test  = test.values"
   ]
  },
  {
   "cell_type": "markdown",
   "metadata": {},
   "source": [
    "<b>Initial Classifier Comparison</b> "
   ]
  },
  {
   "cell_type": "code",
   "execution_count": 13,
   "metadata": {
    "collapsed": false
   },
   "outputs": [
    {
     "name": "stderr",
     "output_type": "stream",
     "text": [
      "//anaconda/lib/python3.5/site-packages/sklearn/cross_validation.py:44: DeprecationWarning: This module was deprecated in version 0.18 in favor of the model_selection module into which all the refactored classes and functions are moved. Also note that the interface of the new CV iterators are different from that of this module. This module will be removed in 0.20.\n",
      "  \"This module will be removed in 0.20.\", DeprecationWarning)\n"
     ]
    },
    {
     "data": {
      "text/html": [
       "<script>requirejs.config({paths: { 'plotly': ['https://cdn.plot.ly/plotly-latest.min']},});if(!window.Plotly) {{require(['plotly'],function(plotly) {window.Plotly=plotly;});}}</script>"
      ],
      "text/plain": [
       "<IPython.core.display.HTML object>"
      ]
     },
     "metadata": {},
     "output_type": "display_data"
    }
   ],
   "source": [
    "import matplotlib.pyplot as plt\n",
    "import seaborn as sns   #probs need to pip install seaborn\n",
    "import xgboost\n",
    "\n",
    "from sklearn.model_selection import StratifiedShuffleSplit, KFold\n",
    "from sklearn.metrics import accuracy_score, log_loss\n",
    "from sklearn.neighbors import KNeighborsClassifier\n",
    "from sklearn.svm import SVC\n",
    "from sklearn.tree import DecisionTreeClassifier\n",
    "from sklearn.ensemble import RandomForestClassifier, AdaBoostClassifier, GradientBoostingClassifier, ExtraTreesClassifier\n",
    "from sklearn.naive_bayes import GaussianNB\n",
    "from sklearn.discriminant_analysis import LinearDiscriminantAnalysis, QuadraticDiscriminantAnalysis\n",
    "from sklearn.linear_model import LogisticRegression\n",
    "from sklearn import model_selection\n",
    "from sklearn.metrics import accuracy_score\n",
    "from sklearn.cross_validation import KFold\n",
    "\n",
    "import plotly as py\n",
    "py.offline.init_notebook_mode(connected=True)\n",
    "import plotly.graph_objs as go\n",
    "import plotly.tools as tls"
   ]
  },
  {
   "cell_type": "code",
   "execution_count": 14,
   "metadata": {
    "collapsed": false
   },
   "outputs": [
    {
     "data": {
      "text/plain": [
       "<matplotlib.axes._subplots.AxesSubplot at 0x11008da58>"
      ]
     },
     "execution_count": 14,
     "metadata": {},
     "output_type": "execute_result"
    },
    {
     "data": {
      "image/png": "[encoded data removed]",
      "text/plain": [
       "<matplotlib.figure.Figure at 0x110fdb630>"
      ]
     },
     "metadata": {},
     "output_type": "display_data"
    }
   ],
   "source": [
    "#https://www.kaggle.com/sinakhorami/titanic/titanic-best-working-classifier\n",
    "\n",
    "classifiers = [\n",
    "    KNeighborsClassifier(3),\n",
    "    SVC(probability=True),\n",
    "    DecisionTreeClassifier(),\n",
    "    RandomForestClassifier(),\n",
    "\tAdaBoostClassifier(),\n",
    "    GradientBoostingClassifier(),\n",
    "    GaussianNB(),\n",
    "    LinearDiscriminantAnalysis(),\n",
    "    QuadraticDiscriminantAnalysis(),\n",
    "    xgboost.XGBClassifier(),\n",
    "    ExtraTreesClassifier(),\n",
    "    LogisticRegression()]\n",
    "\n",
    "log_cols = [\"Classifier\", \"Accuracy\"]\n",
    "log \t = pd.DataFrame(columns=log_cols)\n",
    "\n",
    "sss = StratifiedShuffleSplit(n_splits=10, test_size=0.1, random_state=0)\n",
    "\n",
    "X = train[0::, 1::]\n",
    "y = train[0::, 0]\n",
    "\n",
    "acc_dict = {}\n",
    "\n",
    "for train_index, test_index in sss.split(X, y):\n",
    "\tX_train, X_test = X[train_index], X[test_index]\n",
    "\ty_train, y_test = y[train_index], y[test_index]\n",
    "\n",
    "\t\n",
    "\tfor clf in classifiers:\n",
    "\t\tname = clf.__class__.__name__\n",
    "\t\tclf.fit(X_train, y_train)\n",
    "\t\ttrain_predictions = clf.predict(X_test)\n",
    "\t\tacc = accuracy_score(y_test, train_predictions)\n",
    "\t\tif name in acc_dict:\n",
    "\t\t\tacc_dict[name] += acc\n",
    "\t\telse:\n",
    "\t\t\tacc_dict[name] = acc\n",
    "\n",
    "\n",
    "for clf in acc_dict:\n",
    "\tacc_dict[clf] = acc_dict[clf] / 10.0\n",
    "\tlog_entry = pd.DataFrame([[clf, acc_dict[clf]]], columns=log_cols)\n",
    "\tlog = log.append(log_entry)\n",
    "\n",
    "plt.xlabel('Accuracy')\n",
    "plt.title('Classifier Accuracy')\n",
    "\n",
    "sns.set_color_codes(\"muted\")\n",
    "sns.barplot(x='Accuracy', y='Classifier', data=log, color=\"b\")"
   ]
  },
  {
   "cell_type": "markdown",
   "metadata": {},
   "source": [
    "<b>Output our results for the test set with SVC</b> "
   ]
  },
  {
   "cell_type": "code",
   "execution_count": 15,
   "metadata": {
    "collapsed": false
   },
   "outputs": [],
   "source": [
    "candidate_classifier = SVC()\n",
    "candidate_classifier.fit(train[0::, 1::], train[0::, 0])\n",
    "result = candidate_classifier.predict(test)"
   ]
  },
  {
   "cell_type": "code",
   "execution_count": 16,
   "metadata": {
    "collapsed": false
   },
   "outputs": [
    {
     "data": {
      "text/plain": [
       "0     11\n",
       "1    824\n",
       "2    695\n",
       "3    507\n",
       "4    685\n",
       "Name: PassengerID, dtype: int64"
      ]
     },
     "execution_count": 16,
     "metadata": {},
     "output_type": "execute_result"
    }
   ],
   "source": [
    "passengerid[:5]"
   ]
  },
  {
   "cell_type": "code",
   "execution_count": 17,
   "metadata": {
    "collapsed": false
   },
   "outputs": [
    {
     "data": {
      "text/plain": [
       "394"
      ]
     },
     "execution_count": 17,
     "metadata": {},
     "output_type": "execute_result"
    }
   ],
   "source": [
    "len(result) #good! they're expecting 394 for each submission, have to add header"
   ]
  },
  {
   "cell_type": "code",
   "execution_count": 18,
   "metadata": {
    "collapsed": false
   },
   "outputs": [],
   "source": [
    "final_data = {'PassengerID': passengerid, 'Survived': result}\n",
    "predicted_categories = pd.DataFrame(data = final_data)\n",
    "predicted_categories.to_csv('test_out.csv' , index = False)"
   ]
  },
  {
   "cell_type": "code",
   "execution_count": 19,
   "metadata": {
    "collapsed": false
   },
   "outputs": [],
   "source": [
    "candidate_classifier = LogisticRegression()\n",
    "candidate_classifier.fit(train[0::, 1::], train[0::, 0])\n",
    "result = candidate_classifier.predict(test)"
   ]
  },
  {
   "cell_type": "markdown",
   "metadata": {},
   "source": [
    "<b>Tune Parameters</b> "
   ]
  },
  {
   "cell_type": "code",
   "execution_count": 20,
   "metadata": {
    "collapsed": true
   },
   "outputs": [],
   "source": [
    "from sklearn.pipeline import Pipeline"
   ]
  },
  {
   "cell_type": "markdown",
   "metadata": {},
   "source": [
    "#### Commenting out the optimization part since it takes a long time and we have the optimal parameters already (can be found below)"
   ]
  },
  {
   "cell_type": "code",
   "execution_count": 21,
   "metadata": {
    "collapsed": false
   },
   "outputs": [],
   "source": [
    "# # Optimizing Logistic Regression\n",
    "# from sklearn.model_selection import GridSearchCV\n",
    "# clf = Pipeline([('LogisticRegression', LogisticRegression(max_iter=400))])\n",
    "\n",
    "# parameters = {\n",
    "#                 #'LogisticRegression__penalty': ('l1','l2'),\n",
    "#                 'LogisticRegression__C': (2 ** -3, 2 ** -2, 2 ** -1, 2 ** 0, 2 ** 1, 2 ** 2, 2 ** 3, 2 ** 4),\n",
    "#                 'LogisticRegression__solver': ('newton-cg', 'lbfgs', 'liblinear', 'sag')  #1\n",
    "#  }\n",
    "# gs_clf = GridSearchCV(clf, parameters, n_jobs=-1)\n",
    "# gs_clf = gs_clf.fit(train[0::, 1::], train[0::, 0])\n",
    "# predicted = gs_clf.predict(test)\n",
    "# # accuracy_score(dev_set.Category, predicted)\n",
    "\n",
    "# print(\"Best score: %0.3f\" % gs_clf.best_score_)\n",
    "# print(\"Best parameters set:\")\n",
    "# best_parameters = gs_clf.best_estimator_.get_params()\n",
    "# for param_name in sorted(parameters.keys()):\n",
    "#    print(\"\\t%s: %r\" % (param_name, best_parameters[param_name]))"
   ]
  },
  {
   "cell_type": "code",
   "execution_count": 22,
   "metadata": {
    "collapsed": false
   },
   "outputs": [],
   "source": [
    "# # Optimizing SVC\n",
    "# from sklearn.model_selection import GridSearchCV\n",
    "# clf = Pipeline([('SVC', SVC(probability=True, kernel = 'rbf'))])\n",
    "\n",
    "# parameters = {\n",
    "#                 'SVC__C': (2 ** -3, 2 ** -2, 2 ** -1, 2 ** 0, 2 ** 1, 2 ** 2, 2 ** 3, 2 ** 4),  #1\n",
    "#                 'SVC__decision_function_shape': ('ovo', 'ovr', 'None'),\n",
    "#                 #'SVC__kernel': ('rbf', 'poly'), #'linear', 'poly'\n",
    "#                 'SVC__gamma': (2** -7, 2** -6, 2** -5, 2** -4, 2** -3, 2** -2, 2** -1, 2** 0, 2** 1, 2** 2, 2** 3, 2** 4, 2** 5, 2** 6, 2** 7 )\n",
    "#  }\n",
    "# gs_clf = GridSearchCV(clf, parameters, n_jobs=-1)\n",
    "# gs_clf = gs_clf.fit(train[0::, 1::], train[0::, 0])\n",
    "# predicted = gs_clf.predict(test)\n",
    "# # accuracy_score(dev_set.Category, predicted)\n",
    "\n",
    "# print(\"Best score: %0.3f\" % gs_clf.best_score_)\n",
    "# print(\"Best parameters set:\")\n",
    "# best_parameters = gs_clf.best_estimator_.get_params()\n",
    "# for param_name in sorted(parameters.keys()):\n",
    "#    print(\"\\t%s: %r\" % (param_name, best_parameters[param_name]))"
   ]
  },
  {
   "cell_type": "code",
   "execution_count": 23,
   "metadata": {
    "collapsed": false
   },
   "outputs": [],
   "source": [
    "# # Optimize Linear Discriminant Analysis\n",
    "\n",
    "# clf = Pipeline([('LinearDiscriminantAnalysis', LinearDiscriminantAnalysis())])\n",
    "\n",
    "# parameters = {\n",
    "#                 'LinearDiscriminantAnalysis__solver': ('svd','lsqr','eigen')}  #1\n",
    "\n",
    "# gs_clf = GridSearchCV(clf, parameters, n_jobs=-1)\n",
    "# gs_clf = gs_clf.fit(train[0::, 1::], train[0::, 0])\n",
    "# predicted = gs_clf.predict(test)\n",
    "# # accuracy_score(dev_set.Category, predicted)\n",
    "\n",
    "# print(\"Best score: %0.3f\" % gs_clf.best_score_)\n",
    "# print(\"Best parameters set:\")\n",
    "# best_parameters = gs_clf.best_estimator_.get_params()\n",
    "# for param_name in sorted(parameters.keys()):\n",
    "#    print(\"\\t%s: %r\" % (param_name, best_parameters[param_name]))"
   ]
  },
  {
   "cell_type": "code",
   "execution_count": 25,
   "metadata": {
    "collapsed": false
   },
   "outputs": [],
   "source": [
    "# # Optimizing Adaboost\n",
    "# from sklearn.model_selection import GridSearchCV\n",
    "# clf = Pipeline([('AdaBoostClassifier', AdaBoostClassifier())])\n",
    "# parameters = {\n",
    "#                 #'LogisticRegression__penalty': ('l1','l2'),\n",
    "#                 'AdaBoostClassifier__learning_rate': (0.25, 0.5, 0.75),\n",
    "#                 'AdaBoostClassifier__n_estimators': (50, 100, 150, 200, 250, 300, 350, 400, 450, 500, 550)\n",
    "# #                 'LogisticRegression__C': (2 ** -3, 2 ** -2, 2 ** -1, 2 ** 0, 2 ** 1, 2 ** 2, 2 ** 3, 2 ** 4),\n",
    "# #                 'LogisticRegression__solver': ('newton-cg', 'lbfgs', 'liblinear', 'sag')  #1\n",
    "#  }\n",
    "# gs_clf = GridSearchCV(clf, parameters, n_jobs=-1)\n",
    "# gs_clf = gs_clf.fit(train[0::, 1::], train[0::, 0])\n",
    "# predicted = gs_clf.predict(test)\n",
    "# # accuracy_score(dev_set.Category, predicted)\n",
    "# print(\"Best score: %0.3f\" % gs_clf.best_score_)\n",
    "# print(\"Best parameters set:\")\n",
    "# best_parameters = gs_clf.best_estimator_.get_params()\n",
    "# for param_name in sorted(parameters.keys()):\n",
    "#    print(\"\\t%s: %r\" % (param_name, best_parameters[param_name]))"
   ]
  },
  {
   "cell_type": "code",
   "execution_count": 26,
   "metadata": {
    "collapsed": true
   },
   "outputs": [],
   "source": [
    "candidate_classifier = SVC(C = 1, gamma = 0.03125, kernel = 'rbf', decision_function_shape = 'ovo')\n",
    "candidate_classifier.fit(train[0::, 1::], train[0::, 0])\n",
    "result = candidate_classifier.predict(test)"
   ]
  },
  {
   "cell_type": "code",
   "execution_count": 27,
   "metadata": {
    "collapsed": true
   },
   "outputs": [],
   "source": [
    "final_data = {'PassengerID': passengerid, 'Survived': result}\n",
    "predicted_categories = pd.DataFrame(data = final_data)\n",
    "\n",
    "# output without ensembling:\n",
    "# predicted_categories.to_csv('test_7.csv' , index = False)"
   ]
  },
  {
   "cell_type": "markdown",
   "metadata": {},
   "source": [
    "#### Ensemble method\n",
    "\n",
    "We used the same framework outlined in this website using the best models from our previous analysis:\n",
    "https://www.kaggle.com/arthurtok/titanic/introduction-to-ensembling-stacking-in-python"
   ]
  },
  {
   "cell_type": "code",
   "execution_count": 28,
   "metadata": {
    "collapsed": true
   },
   "outputs": [],
   "source": [
    "# https://www.kaggle.com/arthurtok/titanic/introduction-to-ensembling-stacking-in-python\n",
    "\n",
    "from scipy.optimize import minimize\n",
    "\n",
    "def mix(x):\n",
    "    n_methods = len(classifiers)\n",
    "    y_mix = [np.multiply(x[i], y_[i]) for i in range(n_methods)]\n",
    "    y_mix = np.sum(y_mix, axis=0)\n",
    "    y_mix = np.array([round(y).astype(int) for y in y_mix])\n",
    "    acc = accuracy_score(y_test, y_mix)\n",
    "    return -acc"
   ]
  },
  {
   "cell_type": "code",
   "execution_count": 29,
   "metadata": {
    "collapsed": false
   },
   "outputs": [],
   "source": [
    "# https://www.kaggle.com/arthurtok/titanic/introduction-to-ensembling-stacking-in-python\n",
    "\n",
    "# Some useful parameters which will come in handy later on\n",
    "ntrain = training.shape[0]\n",
    "ntest = test.shape[0]\n",
    "SEED = 0 # for reproducibility\n",
    "NFOLDS = 5 # set folds for out-of-fold prediction\n",
    "#kf = KFold(n_splits= NFOLDS, random_state=SEED)\n",
    "kf = KFold(ntrain, n_folds= NFOLDS, random_state=SEED)\n",
    "\n",
    "class SklearnHelper(object):\n",
    "    def __init__(self, clf, seed=0, params=None):\n",
    "        params['random_state'] = seed\n",
    "        self.clf = clf(**params)\n",
    "\n",
    "    def train(self, x_train, y_train):\n",
    "        self.clf.fit(x_train, y_train)\n",
    "\n",
    "    def predict(self, x):\n",
    "        return self.clf.predict(x)\n",
    "    \n",
    "    def fit(self,x,y):\n",
    "        return self.clf.fit(x,y)\n",
    "    \n",
    "    def feature_importances(self,x,y):\n",
    "        print(self.clf.fit(x,y).feature_importances_)\n",
    "        \n",
    "#     def feature_imp(self,x,y):\n",
    "#         print(self.clf.fit(x,y).)"
   ]
  },
  {
   "cell_type": "code",
   "execution_count": 30,
   "metadata": {
    "collapsed": true
   },
   "outputs": [],
   "source": [
    "# https://www.kaggle.com/arthurtok/titanic/introduction-to-ensembling-stacking-in-python\n",
    "\n",
    "def get_oof(clf, x_train, y_train, x_test):\n",
    "    oof_train = np.zeros((ntrain,))\n",
    "    oof_test = np.zeros((ntest,))\n",
    "    oof_test_skf = np.empty((NFOLDS, ntest))\n",
    "\n",
    "    for i, (train_index, test_index) in enumerate(kf):\n",
    "        x_tr = x_train[train_index]\n",
    "        y_tr = y_train[train_index]\n",
    "        x_te = x_train[test_index]\n",
    "\n",
    "        clf.train(x_tr, y_tr)\n",
    "\n",
    "        oof_train[test_index] = clf.predict(x_te)\n",
    "        oof_test_skf[i, :] = clf.predict(x_test)\n",
    "\n",
    "    oof_test[:] = oof_test_skf.mean(axis=0)\n",
    "    return oof_train.reshape(-1, 1), oof_test.reshape(-1, 1)"
   ]
  },
  {
   "cell_type": "code",
   "execution_count": 31,
   "metadata": {
    "collapsed": false
   },
   "outputs": [],
   "source": [
    "# Put in our parameters for said classifiers\n",
    "\n",
    "# Logistic parameters\n",
    "lg_params = {\n",
    "    'C': 0.5,\n",
    "    'solver': 'liblinear'\n",
    "}\n",
    "\n",
    "\n",
    "# LinearDiscriminantAnalysis parameters\n",
    "lda_params = {\n",
    "    'solver': 'svd'\n",
    "}\n",
    "\n",
    "# AdaBoost parameters\n",
    "ada_params = {\n",
    "    'n_estimators': 50,\n",
    "    'learning_rate' : 0.25\n",
    "}\n",
    "\n",
    "\n",
    "# Support Vector Classifier parameters \n",
    "svc_params = {\n",
    "    'kernel' : 'rbf',\n",
    "    'C' : 1, \n",
    "    'gamma' : 0.03125, \n",
    "    'decision_function_shape' : 'ovo'\n",
    "}"
   ]
  },
  {
   "cell_type": "code",
   "execution_count": 32,
   "metadata": {
    "collapsed": false
   },
   "outputs": [],
   "source": [
    "# Create 4 objects that represent our 4 models\n",
    "lg = SklearnHelper(clf=LogisticRegression, seed=SEED, params=lg_params)\n",
    "ada = SklearnHelper(clf=AdaBoostClassifier, seed=SEED, params=ada_params)\n",
    "svc = SklearnHelper(clf=SVC, seed=SEED, params=svc_params)\n",
    "# lda = SklearnHelper(clf=LinearDiscriminantAnalysis, seed=SEED, params=lda_params)\n",
    "#cannot get LDA to work -- not including it in the ensemble model anymore"
   ]
  },
  {
   "cell_type": "code",
   "execution_count": 33,
   "metadata": {
    "collapsed": false
   },
   "outputs": [],
   "source": [
    "# Create Numpy arrays of train, test and target ( Survived) dataframes to feed into our models\n",
    "y_train = training['Survived'].ravel()\n",
    "train = training.drop(['Survived'], axis=1)\n",
    "x_train = train.values # Creates an array of the train data\n",
    "x_test = test # Creats an array of the test data"
   ]
  },
  {
   "cell_type": "code",
   "execution_count": 34,
   "metadata": {
    "collapsed": false
   },
   "outputs": [
    {
     "name": "stdout",
     "output_type": "stream",
     "text": [
      "Training is complete\n"
     ]
    }
   ],
   "source": [
    "# Create our OOF train and test predictions. These base results will be used as new features\n",
    "\n",
    "ada_oof_train, ada_oof_test = get_oof(ada, x_train, y_train, x_test) # AdaBoost \n",
    "svc_oof_train, svc_oof_test = get_oof(svc,x_train, y_train, x_test) # Support Vector Classifier\n",
    "lg_oof_train, lg_oof_test = get_oof(lg, x_train, y_train, x_test) # Logistic Regresion \n",
    "# lda_oof_train, lda_oof_test = get_oof(lda,x_train, y_train, x_test) # Linear Discriminant Analysis\n",
    "\n",
    "print(\"Training is complete\")"
   ]
  },
  {
   "cell_type": "code",
   "execution_count": 35,
   "metadata": {
    "collapsed": false
   },
   "outputs": [
    {
     "data": {
      "text/plain": [
       "array([[-0.46922184, -1.20728759, -0.23266437,  0.20922092, -0.14708945,\n",
       "         0.11872573, -0.37117348, -0.20703255,  0.40770348,  1.18618318]])"
      ]
     },
     "execution_count": 35,
     "metadata": {},
     "output_type": "execute_result"
    }
   ],
   "source": [
    "lg = LogisticRegression(C=0.5, solver='liblinear')\n",
    "lg.fit(x_train,y_train).coef_"
   ]
  },
  {
   "cell_type": "code",
   "execution_count": 36,
   "metadata": {
    "collapsed": false,
    "scrolled": true
   },
   "outputs": [
    {
     "name": "stdout",
     "output_type": "stream",
     "text": [
      "[ 0.14  0.04  0.18  0.06  0.12  0.02  0.16  0.    0.16  0.12]\n"
     ]
    }
   ],
   "source": [
    "ada_feature = ada.feature_importances(x_train, y_train)"
   ]
  },
  {
   "cell_type": "code",
   "execution_count": 37,
   "metadata": {
    "collapsed": true
   },
   "outputs": [],
   "source": [
    "# svc_feature = svc.feature_importances(x_train,y_train) -- too many features to plot"
   ]
  },
  {
   "cell_type": "code",
   "execution_count": 38,
   "metadata": {
    "collapsed": false
   },
   "outputs": [],
   "source": [
    "lg_feature = [-0.48764476, -1.0898199,  -0.2371944,   0.2102665,  -0.14545518,  0.11431281,\n",
    "              -0.38205732, -0.20223201,  0.39227969,  1.35330996]\n",
    "ada_feature = [0.12,  0.04,  0.18,  0.08,  0.12,  0.02,  0.18,  0, 0.14,  0.12]"
   ]
  },
  {
   "cell_type": "code",
   "execution_count": 39,
   "metadata": {
    "collapsed": false
   },
   "outputs": [],
   "source": [
    "cols = train.columns.values\n",
    "# Create a dataframe with features\n",
    "feature_dataframe = pd.DataFrame( {'features': cols, 'Logistic Regression feature importances': lg_feature,\n",
    "                                   'AdaBoost feature importances': ada_feature})"
   ]
  },
  {
   "cell_type": "code",
   "execution_count": 40,
   "metadata": {
    "collapsed": false,
    "scrolled": false
   },
   "outputs": [
    {
     "data": {
      "application/vnd.plotly.v1+json": {
       "data": [
        {
         "marker": {
          "color": [
           -0.48764476,
           -1.0898199,
           -0.2371944,
           0.2102665,
           -0.14545518,
           0.11431281,
           -0.38205732,
           -0.20223201,
           0.39227969,
           1.35330996
          ],
          "colorscale": "Portland",
          "showscale": true,
          "size": 25,
          "sizemode": "diameter",
          "sizeref": 1
         },
         "mode": "markers",
         "text": [
          "Pclass",
          "Sex",
          "Age",
          "Fare",
          "Cabin",
          "Embarked",
          "FamilySize",
          "IsAlone",
          "Title",
          "Women_child"
         ],
         "type": "scatter",
         "x": [
          "Pclass",
          "Sex",
          "Age",
          "Fare",
          "Cabin",
          "Embarked",
          "FamilySize",
          "IsAlone",
          "Title",
          "Women_child"
         ],
         "y": [
          -0.48764476,
          -1.0898199,
          -0.2371944,
          0.2102665,
          -0.14545518,
          0.11431281,
          -0.38205732,
          -0.20223201,
          0.39227969,
          1.35330996
         ]
        }
       ],
       "layout": {
        "autosize": true,
        "hovermode": "closest",
        "showlegend": false,
        "title": "Logistic Regression Feature Importance",
        "yaxis": {
         "gridwidth": 2,
         "ticklen": 5,
         "title": "Feature Importance"
        }
       }
      },
      "text/html": [
       "<div id=\"952d8c52-9d0f-4ee7-be3b-9e44d4050f4e\" style=\"height: 525px; width: 100%;\" class=\"plotly-graph-div\"></div><script type=\"text/javascript\">require([\"plotly\"], function(Plotly) { window.PLOTLYENV=window.PLOTLYENV || {};window.PLOTLYENV.BASE_URL=\"https://plot.ly\";Plotly.newPlot(\"952d8c52-9d0f-4ee7-be3b-9e44d4050f4e\", [{\"type\": \"scatter\", \"marker\": {\"colorscale\": \"Portland\", \"size\": 25, \"color\": [-0.48764476, -1.0898199, -0.2371944, 0.2102665, -0.14545518, 0.11431281, -0.38205732, -0.20223201, 0.39227969, 1.35330996], \"sizeref\": 1, \"showscale\": true, \"sizemode\": \"diameter\"}, \"mode\": \"markers\", \"x\": [\"Pclass\", \"Sex\", \"Age\", \"Fare\", \"Cabin\", \"Embarked\", \"FamilySize\", \"IsAlone\", \"Title\", \"Women_child\"], \"y\": [-0.48764476, -1.0898199, -0.2371944, 0.2102665, -0.14545518, 0.11431281, -0.38205732, -0.20223201, 0.39227969, 1.35330996], \"text\": [\"Pclass\", \"Sex\", \"Age\", \"Fare\", \"Cabin\", \"Embarked\", \"FamilySize\", \"IsAlone\", \"Title\", \"Women_child\"]}], {\"hovermode\": \"closest\", \"yaxis\": {\"gridwidth\": 2, \"ticklen\": 5, \"title\": \"Feature Importance\"}, \"showlegend\": false, \"title\": \"Logistic Regression Feature Importance\", \"autosize\": true}, {\"showLink\": true, \"linkText\": \"Export to plot.ly\"})});</script>"
      ]
     },
     "metadata": {},
     "output_type": "display_data"
    },
    {
     "data": {
      "application/vnd.plotly.v1+json": {
       "data": [
        {
         "marker": {
          "color": [
           0.12,
           0.04,
           0.18,
           0.08,
           0.12,
           0.02,
           0.18,
           0,
           0.14,
           0.12
          ],
          "colorscale": "Portland",
          "showscale": true,
          "size": 25,
          "sizemode": "diameter",
          "sizeref": 1
         },
         "mode": "markers",
         "text": [
          "Pclass",
          "Sex",
          "Age",
          "Fare",
          "Cabin",
          "Embarked",
          "FamilySize",
          "IsAlone",
          "Title",
          "Women_child"
         ],
         "type": "scatter",
         "x": [
          "Pclass",
          "Sex",
          "Age",
          "Fare",
          "Cabin",
          "Embarked",
          "FamilySize",
          "IsAlone",
          "Title",
          "Women_child"
         ],
         "y": [
          0.12,
          0.04,
          0.18,
          0.08,
          0.12,
          0.02,
          0.18,
          0,
          0.14,
          0.12
         ]
        }
       ],
       "layout": {
        "autosize": true,
        "hovermode": "closest",
        "showlegend": false,
        "title": "AdaBoost Feature Importance",
        "yaxis": {
         "gridwidth": 2,
         "ticklen": 5,
         "title": "Feature Importance"
        }
       }
      },
      "text/html": [
       "<div id=\"e1ff0b8f-4e39-4cc1-a6eb-005d15c88c07\" style=\"height: 525px; width: 100%;\" class=\"plotly-graph-div\"></div><script type=\"text/javascript\">require([\"plotly\"], function(Plotly) { window.PLOTLYENV=window.PLOTLYENV || {};window.PLOTLYENV.BASE_URL=\"https://plot.ly\";Plotly.newPlot(\"e1ff0b8f-4e39-4cc1-a6eb-005d15c88c07\", [{\"type\": \"scatter\", \"marker\": {\"colorscale\": \"Portland\", \"size\": 25, \"color\": [0.12, 0.04, 0.18, 0.08, 0.12, 0.02, 0.18, 0.0, 0.14, 0.12], \"sizeref\": 1, \"showscale\": true, \"sizemode\": \"diameter\"}, \"mode\": \"markers\", \"x\": [\"Pclass\", \"Sex\", \"Age\", \"Fare\", \"Cabin\", \"Embarked\", \"FamilySize\", \"IsAlone\", \"Title\", \"Women_child\"], \"y\": [0.12, 0.04, 0.18, 0.08, 0.12, 0.02, 0.18, 0.0, 0.14, 0.12], \"text\": [\"Pclass\", \"Sex\", \"Age\", \"Fare\", \"Cabin\", \"Embarked\", \"FamilySize\", \"IsAlone\", \"Title\", \"Women_child\"]}], {\"hovermode\": \"closest\", \"yaxis\": {\"gridwidth\": 2, \"ticklen\": 5, \"title\": \"Feature Importance\"}, \"showlegend\": false, \"title\": \"AdaBoost Feature Importance\", \"autosize\": true}, {\"showLink\": true, \"linkText\": \"Export to plot.ly\"})});</script>"
      ]
     },
     "metadata": {},
     "output_type": "display_data"
    }
   ],
   "source": [
    "from plotly import __version__\n",
    "from plotly.offline import download_plotlyjs, init_notebook_mode, plot, iplot\n",
    "\n",
    "# Scatter plot Logistic\n",
    "trace = go.Scatter(\n",
    "    y = feature_dataframe['Logistic Regression feature importances'].values,\n",
    "    x = feature_dataframe['features'].values,\n",
    "    mode='markers',\n",
    "    marker=dict(\n",
    "        sizemode = 'diameter',\n",
    "        sizeref = 1,\n",
    "        size = 25,\n",
    "#       size= feature_dataframe['Logistic Regression feature importances'].values,\n",
    "        #color = np.random.randn(500), #set color equal to a variable\n",
    "        color = feature_dataframe['Logistic Regression feature importances'].values,\n",
    "        colorscale='Portland',\n",
    "        showscale=True\n",
    "    ),\n",
    "    text = feature_dataframe['features'].values\n",
    ")\n",
    "data = [trace]\n",
    "\n",
    "layout= go.Layout(\n",
    "    autosize= True,\n",
    "    title= 'Logistic Regression Feature Importance',\n",
    "    hovermode= 'closest',\n",
    "#     xaxis= dict(\n",
    "#         title= 'Pop',\n",
    "#         ticklen= 5,\n",
    "#         zeroline= False,\n",
    "#         gridwidth= 2,\n",
    "#     ),\n",
    "    yaxis=dict(\n",
    "        title= 'Feature Importance',\n",
    "        ticklen= 5,\n",
    "        gridwidth= 2\n",
    "    ),\n",
    "    showlegend= False\n",
    ")\n",
    "fig = go.Figure(data=data, layout=layout)\n",
    "iplot(fig,filename='scatter2010') \n",
    "\n",
    "# Scatter plot AdaBoost\n",
    "trace = go.Scatter(\n",
    "    y = feature_dataframe['AdaBoost feature importances'].values,\n",
    "    x = feature_dataframe['features'].values,\n",
    "    mode='markers',\n",
    "    marker=dict(\n",
    "        sizemode = 'diameter',\n",
    "        sizeref = 1,\n",
    "        size = 25,\n",
    "#       size= feature_dataframe['AdaBoost feature importances'].values,\n",
    "        #color = np.random.randn(500), #set color equal to a variable\n",
    "        color = feature_dataframe['AdaBoost feature importances'].values,\n",
    "        colorscale='Portland',\n",
    "        showscale=True\n",
    "    ),\n",
    "    text = feature_dataframe['features'].values\n",
    ")\n",
    "data = [trace]\n",
    "\n",
    "layout= go.Layout(\n",
    "    autosize= True,\n",
    "    title= 'AdaBoost Feature Importance',\n",
    "    hovermode= 'closest',\n",
    "#     xaxis= dict(\n",
    "#         title= 'Pop',\n",
    "#         ticklen= 5,\n",
    "#         zeroline= False,\n",
    "#         gridwidth= 2,\n",
    "#     ),\n",
    "    yaxis=dict(\n",
    "        title= 'Feature Importance',\n",
    "        ticklen= 5,\n",
    "        gridwidth= 2\n",
    "    ),\n",
    "    showlegend= False\n",
    ")\n",
    "fig = go.Figure(data=data, layout=layout)\n",
    "iplot(fig,filename='scatter2010')"
   ]
  },
  {
   "cell_type": "code",
   "execution_count": 41,
   "metadata": {
    "collapsed": false
   },
   "outputs": [
    {
     "data": {
      "text/html": [
       "<div>\n",
       "<table border=\"1\" class=\"dataframe\">\n",
       "  <thead>\n",
       "    <tr style=\"text-align: right;\">\n",
       "      <th></th>\n",
       "      <th>AdaBoost feature importances</th>\n",
       "      <th>Logistic Regression feature importances</th>\n",
       "      <th>features</th>\n",
       "      <th>mean</th>\n",
       "    </tr>\n",
       "  </thead>\n",
       "  <tbody>\n",
       "    <tr>\n",
       "      <th>0</th>\n",
       "      <td>0.12</td>\n",
       "      <td>-0.487645</td>\n",
       "      <td>Pclass</td>\n",
       "      <td>-0.183822</td>\n",
       "    </tr>\n",
       "    <tr>\n",
       "      <th>1</th>\n",
       "      <td>0.04</td>\n",
       "      <td>-1.089820</td>\n",
       "      <td>Sex</td>\n",
       "      <td>-0.524910</td>\n",
       "    </tr>\n",
       "    <tr>\n",
       "      <th>2</th>\n",
       "      <td>0.18</td>\n",
       "      <td>-0.237194</td>\n",
       "      <td>Age</td>\n",
       "      <td>-0.028597</td>\n",
       "    </tr>\n",
       "  </tbody>\n",
       "</table>\n",
       "</div>"
      ],
      "text/plain": [
       "   AdaBoost feature importances  Logistic Regression feature importances  \\\n",
       "0                          0.12                                -0.487645   \n",
       "1                          0.04                                -1.089820   \n",
       "2                          0.18                                -0.237194   \n",
       "\n",
       "  features      mean  \n",
       "0   Pclass -0.183822  \n",
       "1      Sex -0.524910  \n",
       "2      Age -0.028597  "
      ]
     },
     "execution_count": 41,
     "metadata": {},
     "output_type": "execute_result"
    }
   ],
   "source": [
    "# Create the new column containing the average of values\n",
    "\n",
    "feature_dataframe['mean'] = feature_dataframe.mean(axis= 1) # axis = 1 computes the mean row-wise\n",
    "feature_dataframe.head(3)"
   ]
  },
  {
   "cell_type": "code",
   "execution_count": 42,
   "metadata": {
    "collapsed": false
   },
   "outputs": [
    {
     "data": {
      "application/vnd.plotly.v1+json": {
       "data": [
        {
         "marker": {
          "color": [
           -0.18382238,
           -0.52490995,
           -0.028597200000000003,
           0.14513325,
           -0.012727589999999997,
           0.067156405,
           -0.10102865999999999,
           -0.101116005,
           0.266139845,
           0.73665498
          ],
          "colorscale": "Portland",
          "reversescale": false,
          "showscale": true
         },
         "opacity": 0.6,
         "type": "bar",
         "width": 0.5,
         "x": [
          "Pclass",
          "Sex",
          "Age",
          "Fare",
          "Cabin",
          "Embarked",
          "FamilySize",
          "IsAlone",
          "Title",
          "Women_child"
         ],
         "y": [
          -0.18382238,
          -0.52490995,
          -0.028597200000000003,
          0.14513325,
          -0.012727589999999997,
          0.067156405,
          -0.10102865999999999,
          -0.101116005,
          0.266139845,
          0.73665498
         ]
        }
       ],
       "layout": {
        "autosize": true,
        "hovermode": "closest",
        "showlegend": false,
        "title": "Barplots of Mean Feature Importance",
        "yaxis": {
         "gridwidth": 2,
         "ticklen": 5,
         "title": "Feature Importance"
        }
       }
      },
      "text/html": [
       "<div id=\"7ccfb345-4b11-4a2e-ac55-c3aa91b0b899\" style=\"height: 525px; width: 100%;\" class=\"plotly-graph-div\"></div><script type=\"text/javascript\">require([\"plotly\"], function(Plotly) { window.PLOTLYENV=window.PLOTLYENV || {};window.PLOTLYENV.BASE_URL=\"https://plot.ly\";Plotly.newPlot(\"7ccfb345-4b11-4a2e-ac55-c3aa91b0b899\", [{\"type\": \"bar\", \"marker\": {\"colorscale\": \"Portland\", \"showscale\": true, \"reversescale\": false, \"color\": [-0.18382238, -0.52490995, -0.028597200000000003, 0.14513325, -0.012727589999999997, 0.067156405, -0.10102865999999999, -0.101116005, 0.266139845, 0.73665498]}, \"opacity\": 0.6, \"y\": [-0.18382238, -0.52490995, -0.028597200000000003, 0.14513325, -0.012727589999999997, 0.067156405, -0.10102865999999999, -0.101116005, 0.266139845, 0.73665498], \"x\": [\"Pclass\", \"Sex\", \"Age\", \"Fare\", \"Cabin\", \"Embarked\", \"FamilySize\", \"IsAlone\", \"Title\", \"Women_child\"], \"width\": 0.5}], {\"hovermode\": \"closest\", \"yaxis\": {\"gridwidth\": 2, \"ticklen\": 5, \"title\": \"Feature Importance\"}, \"showlegend\": false, \"title\": \"Barplots of Mean Feature Importance\", \"autosize\": true}, {\"showLink\": true, \"linkText\": \"Export to plot.ly\"})});</script>"
      ]
     },
     "metadata": {},
     "output_type": "display_data"
    }
   ],
   "source": [
    "y = feature_dataframe['mean'].values\n",
    "x = feature_dataframe['features'].values\n",
    "data = [go.Bar(\n",
    "            x= x,\n",
    "             y= y,\n",
    "            width = 0.5,\n",
    "            marker=dict(\n",
    "               color = feature_dataframe['mean'].values,\n",
    "            colorscale='Portland',\n",
    "            showscale=True,\n",
    "            reversescale = False\n",
    "            ),\n",
    "            opacity=0.6\n",
    "        )]\n",
    "\n",
    "layout= go.Layout(\n",
    "    autosize= True,\n",
    "    title= 'Barplots of Mean Feature Importance',\n",
    "    hovermode= 'closest',\n",
    "#     xaxis= dict(\n",
    "#         title= 'Pop',\n",
    "#         ticklen= 5,\n",
    "#         zeroline= False,\n",
    "#         gridwidth= 2,\n",
    "#     ),\n",
    "    yaxis=dict(\n",
    "        title= 'Feature Importance',\n",
    "        ticklen= 5,\n",
    "        gridwidth= 2\n",
    "    ),\n",
    "    showlegend= False\n",
    ")\n",
    "fig = go.Figure(data=data, layout=layout)\n",
    "iplot(fig, filename='bar-direct-labels')"
   ]
  },
  {
   "cell_type": "code",
   "execution_count": 43,
   "metadata": {
    "collapsed": false
   },
   "outputs": [
    {
     "data": {
      "text/html": [
       "<div>\n",
       "<table border=\"1\" class=\"dataframe\">\n",
       "  <thead>\n",
       "    <tr style=\"text-align: right;\">\n",
       "      <th></th>\n",
       "      <th>AdaBoost</th>\n",
       "      <th>LogisticRegression</th>\n",
       "    </tr>\n",
       "  </thead>\n",
       "  <tbody>\n",
       "    <tr>\n",
       "      <th>0</th>\n",
       "      <td>0.0</td>\n",
       "      <td>0.0</td>\n",
       "    </tr>\n",
       "    <tr>\n",
       "      <th>1</th>\n",
       "      <td>0.0</td>\n",
       "      <td>0.0</td>\n",
       "    </tr>\n",
       "    <tr>\n",
       "      <th>2</th>\n",
       "      <td>0.0</td>\n",
       "      <td>0.0</td>\n",
       "    </tr>\n",
       "    <tr>\n",
       "      <th>3</th>\n",
       "      <td>1.0</td>\n",
       "      <td>1.0</td>\n",
       "    </tr>\n",
       "    <tr>\n",
       "      <th>4</th>\n",
       "      <td>1.0</td>\n",
       "      <td>1.0</td>\n",
       "    </tr>\n",
       "  </tbody>\n",
       "</table>\n",
       "</div>"
      ],
      "text/plain": [
       "   AdaBoost  LogisticRegression\n",
       "0       0.0                 0.0\n",
       "1       0.0                 0.0\n",
       "2       0.0                 0.0\n",
       "3       1.0                 1.0\n",
       "4       1.0                 1.0"
      ]
     },
     "execution_count": 43,
     "metadata": {},
     "output_type": "execute_result"
    }
   ],
   "source": [
    "base_predictions_train = pd.DataFrame( {'LogisticRegression': lg_oof_train.ravel(), 'AdaBoost': ada_oof_train.ravel()\n",
    "    })\n",
    "base_predictions_train.head()"
   ]
  },
  {
   "cell_type": "code",
   "execution_count": 44,
   "metadata": {
    "collapsed": true
   },
   "outputs": [],
   "source": [
    "x_train = np.concatenate(( lg_oof_train, ada_oof_train, svc_oof_train), axis=1)\n",
    "x_test = np.concatenate(( lg_oof_test, ada_oof_test, svc_oof_test), axis=1)"
   ]
  },
  {
   "cell_type": "code",
   "execution_count": 45,
   "metadata": {
    "collapsed": false
   },
   "outputs": [],
   "source": [
    "gbm = xgboost.XGBClassifier(\n",
    "    #learning_rate = 0.02,\n",
    " n_estimators= 2000,\n",
    " max_depth= 4,\n",
    " min_child_weight= 2,\n",
    " #gamma=1,\n",
    " gamma=0.9,                        \n",
    " subsample=0.8,\n",
    " colsample_bytree=0.8,\n",
    " objective= 'binary:logistic',\n",
    " nthread= -1,\n",
    " scale_pos_weight=1).fit(x_train, y_train)\n",
    "predictions = gbm.predict(x_test)"
   ]
  },
  {
   "cell_type": "code",
   "execution_count": 46,
   "metadata": {
    "collapsed": false
   },
   "outputs": [
    {
     "data": {
      "text/plain": [
       "0.82513661202185795"
      ]
     },
     "execution_count": 46,
     "metadata": {},
     "output_type": "execute_result"
    }
   ],
   "source": [
    "gbm.score(x_train,y_train)"
   ]
  },
  {
   "cell_type": "code",
   "execution_count": 47,
   "metadata": {
    "collapsed": false
   },
   "outputs": [],
   "source": [
    "# Generate Submission File \n",
    "StackingSubmission = pd.DataFrame({ 'PassengerID': passengerid,\n",
    "                            'Survived': predictions })\n",
    "StackingSubmission.to_csv(\"test_v10.csv\", index=False)"
   ]
  },
  {
   "cell_type": "markdown",
   "metadata": {},
   "source": [
    "<b>Reference Materials</b> "
   ]
  },
  {
   "cell_type": "code",
   "execution_count": 48,
   "metadata": {
    "collapsed": false
   },
   "outputs": [],
   "source": [
    "# # Data manipulation (only on training so far)\n",
    "\n",
    "# # 1. Make Pclass three separate dummy variables \n",
    "# classes = pd.get_dummies(training.Pclass, prefix = 'Class')\n",
    "# classes.columns = ['First Class', 'Second Class', 'Third Class']\n",
    "# training = pd.concat([training,classes], axis = 1)\n",
    "# Passenger_class = training['Pclass']\n",
    "# del training['Pclass']\n",
    "# cols = training.columns.tolist()\n",
    "# cols = ['PassengerID','Survived','First Class','Second Class','Third Class','Name','Sex','Age','SibSp','ParCh','Ticket','Fare','Cabin','Embarked']\n",
    "# training = training[cols]\n",
    "\n",
    "# # 2. Make Sex a dummy variable \n",
    "# sex = pd.get_dummies(training['Sex'])\n",
    "# male = sex['male']\n",
    "# del sex['male']\n",
    "# training = pd.concat([training,sex], axis = 1)\n",
    "# cols = training.columns.tolist()\n",
    "# cols = ['PassengerID','Survived', 'First Class','Second Class','Third Class','Name', 'female', 'Age', 'SibSp', 'ParCh', 'Ticket', 'Fare', 'Cabin', 'Embarked']\n",
    "# training = training[cols]\n",
    "\n",
    "# # 3. Make embarking ports dummy variables. First, though fill NA with most common value, S\n",
    "# for dataset in full_data:\n",
    "#     dataset['Embarked'] = dataset['Embarked'].fillna('S')\n",
    "# print (training[['Embarked', 'Survived']].groupby(['Embarked'], as_index=False).mean())\n",
    "\n",
    "# port = pd.get_dummies(training['Embarked'])\n",
    "# port.columns = ['Cherbourg', 'Queenstown', 'Southampton']\n",
    "# embarked = training['Embarked']\n",
    "# del training['Embarked']\n",
    "# training = pd.concat([training,port], axis = 1)\n",
    "# training.head()"
   ]
  },
  {
   "cell_type": "markdown",
   "metadata": {},
   "source": [
    "<b>Later Strategy</b> "
   ]
  },
  {
   "cell_type": "markdown",
   "metadata": {},
   "source": [
    "We discovered the use of Pipelines as a way to support trying out the performance of various feature selection options as well as parameters for various classifiers. Much of this strategy came from the discussion of linear and SV models from lecture as well as the Scikit-Learn website http://scikit-learn.org/stable/tutorial/text_analytics/working_with_text_data.html\n",
    "We both tried various parameters for classifiers, relying on GridSearch, and below displays our code and results. Due to the computational load of doing a GridSearch (combinatorial growth), we both experimented with parameters on our separate machines in order to develop the best algorithm quicker.\n",
    "\n",
    "1. Feature Selection attempted:\n",
    "    1. Families vs siblings\n",
    "2. Classifiers used:\n",
    "    1. Linear: Naive Bayes, Linear Regression, Stochastic Gradiant Descent\n",
    "    2. SVC and Linear SVC (One vs One, One vs Many)"
   ]
  },
  {
   "cell_type": "markdown",
   "metadata": {},
   "source": [
    "<b>Pipeline Template</b> "
   ]
  },
  {
   "cell_type": "code",
   "execution_count": 49,
   "metadata": {
    "collapsed": true
   },
   "outputs": [],
   "source": [
    "#Pipeline attempts (the uncommented are the final parameters for his best classifier) \n",
    "# #derived from http://scikit-learn.org/stable/tutorial/text_analytics/working_with_text_data.html\n",
    "# text_clf = Pipeline([('vect', CountVectorizer(ngram_range=(1, 2), tokenizer=LemmaTokenizer(), max_df=0.25,token_pattern=r'\\b\\w+\\b', stop_words=\"english\")),\n",
    "#                       ('tfidf', TfidfTransformer(use_idf=True,norm='l2')),\n",
    "#                       #('clf', SVC(C=1000000.0, gamma='auto', kernel='rbf'))])\n",
    "#                       # ('clf', LinearSVC(C=1.0, random_state=69, penalty='l2', dual=True, tol=1e-5))])\n",
    "#                       #('clf', OneVsOneClassifier(LinearSVC(random_state=0)))])                    \n",
    "#                       ('clf', SGDClassifier(loss='hinge', alpha=1e-5, penalty='elasticnet', n_iter=50, random_state=69))])\n",
    "# _ = text_clf.fit(train_set[\"Review Text\"], train_set.Category)\n",
    "# predicted = text_clf.predict(dev_set[\"Review Text\"])\n",
    "# accuracy_score(dev_set.Category, predicted)"
   ]
  }
 ],
 "metadata": {
  "anaconda-cloud": {},
  "kernelspec": {
   "display_name": "Python [default]",
   "language": "python",
   "name": "python3"
  },
  "language_info": {
   "codemirror_mode": {
    "name": "ipython",
    "version": 3
   },
   "file_extension": ".py",
   "mimetype": "text/x-python",
   "name": "python",
   "nbconvert_exporter": "python",
   "pygments_lexer": "ipython3",
   "version": "3.5.2"
  }
 },
 "nbformat": 4,
 "nbformat_minor": 0
}
